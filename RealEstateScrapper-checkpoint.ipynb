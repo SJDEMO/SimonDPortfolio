{
 "cells": [
  {
   "cell_type": "markdown",
   "id": "d5158158",
   "metadata": {},
   "source": [
    "## 0.1 Intent"
   ]
  },
  {
   "cell_type": "markdown",
   "id": "0fc360f7",
   "metadata": {},
   "source": [
    "##### In the following notebook, we will be performing analysis on data from the Century21 website on local houses for sale in the charlotte area.We obtain this data from the following link. In conclusion, we will be able to determine an ideal area for home buyers to target"
   ]
  },
  {
   "cell_type": "markdown",
   "id": "efc9d322",
   "metadata": {},
   "source": [
    "##### https://www.century21.com/real-estate/charlotte-nc/LCNCCHARLOTTE/"
   ]
  },
  {
   "cell_type": "markdown",
   "id": "8ed1fc18",
   "metadata": {},
   "source": [
    "## 0.2 Import the dataset and preview"
   ]
  },
  {
   "cell_type": "markdown",
   "id": "883d1273",
   "metadata": {},
   "source": [
    "##### We begin by importing the necessary functions that will help up scrape data from the Century21 Website"
   ]
  },
  {
   "cell_type": "code",
   "execution_count": 2,
   "id": "42ffb1da",
   "metadata": {},
   "outputs": [],
   "source": [
    "import requests\n",
    "from bs4 import BeautifulSoup\n",
    "import pandas"
   ]
  },
  {
   "cell_type": "markdown",
   "id": "0c1d187e",
   "metadata": {},
   "source": [
    "##### We compare our results of the entries to the website to ensure accuracy of data. We find that this function works perfectly. \n",
    "##### This website hosts an infinite scrolling feature, which is the reason a 'while' loop was necessary to obtain each data entry."
   ]
  },
  {
   "cell_type": "code",
   "execution_count": 12,
   "id": "4acb686d",
   "metadata": {
    "scrolled": true
   },
   "outputs": [
    {
     "data": {
      "text/html": [
       "<div>\n",
       "<style scoped>\n",
       "    .dataframe tbody tr th:only-of-type {\n",
       "        vertical-align: middle;\n",
       "    }\n",
       "\n",
       "    .dataframe tbody tr th {\n",
       "        vertical-align: top;\n",
       "    }\n",
       "\n",
       "    .dataframe thead th {\n",
       "        text-align: right;\n",
       "    }\n",
       "</style>\n",
       "<table border=\"1\" class=\"dataframe\">\n",
       "  <thead>\n",
       "    <tr style=\"text-align: right;\">\n",
       "      <th></th>\n",
       "      <th>Price</th>\n",
       "      <th>Address</th>\n",
       "      <th>City</th>\n",
       "      <th>Beds</th>\n",
       "      <th>Baths</th>\n",
       "      <th>Half Baths</th>\n",
       "      <th>Sqft</th>\n",
       "    </tr>\n",
       "  </thead>\n",
       "  <tbody>\n",
       "    <tr>\n",
       "      <th>0</th>\n",
       "      <td>$989,000</td>\n",
       "      <td>5311 Macandrew Drive</td>\n",
       "      <td>Charlotte NC 28226</td>\n",
       "      <td>5</td>\n",
       "      <td>4</td>\n",
       "      <td>1</td>\n",
       "      <td>4,487</td>\n",
       "    </tr>\n",
       "    <tr>\n",
       "      <th>1</th>\n",
       "      <td>$925,000</td>\n",
       "      <td>2236 Chesterfield Avenue</td>\n",
       "      <td>Charlotte NC 28205</td>\n",
       "      <td>5</td>\n",
       "      <td>3</td>\n",
       "      <td>NaN</td>\n",
       "      <td>NaN</td>\n",
       "    </tr>\n",
       "    <tr>\n",
       "      <th>2</th>\n",
       "      <td>$799,000</td>\n",
       "      <td>251 W Kingston Avenue</td>\n",
       "      <td>Charlotte NC 28203</td>\n",
       "      <td>4</td>\n",
       "      <td>4</td>\n",
       "      <td>NaN</td>\n",
       "      <td>NaN</td>\n",
       "    </tr>\n",
       "    <tr>\n",
       "      <th>3</th>\n",
       "      <td>$794,900</td>\n",
       "      <td>2433 Hassell Place</td>\n",
       "      <td>Charlotte NC 28209</td>\n",
       "      <td>3</td>\n",
       "      <td>2</td>\n",
       "      <td>NaN</td>\n",
       "      <td>NaN</td>\n",
       "    </tr>\n",
       "    <tr>\n",
       "      <th>4</th>\n",
       "      <td>$775,000</td>\n",
       "      <td>2910 Hanson Drive</td>\n",
       "      <td>Charlotte NC 28207</td>\n",
       "      <td>5</td>\n",
       "      <td>3</td>\n",
       "      <td>1</td>\n",
       "      <td>2,847</td>\n",
       "    </tr>\n",
       "  </tbody>\n",
       "</table>\n",
       "</div>"
      ],
      "text/plain": [
       "      Price                   Address                City Beds Baths  \\\n",
       "0  $989,000      5311 Macandrew Drive  Charlotte NC 28226   5     4    \n",
       "1  $925,000  2236 Chesterfield Avenue  Charlotte NC 28205   5     3    \n",
       "2  $799,000     251 W Kingston Avenue  Charlotte NC 28203   4     4    \n",
       "3  $794,900        2433 Hassell Place  Charlotte NC 28209   3     2    \n",
       "4  $775,000         2910 Hanson Drive  Charlotte NC 28207   5     3    \n",
       "\n",
       "  Half Baths    Sqft  \n",
       "0         1   4,487   \n",
       "1        NaN     NaN  \n",
       "2        NaN     NaN  \n",
       "3        NaN     NaN  \n",
       "4         1   2,847   "
      ]
     },
     "execution_count": 12,
     "metadata": {},
     "output_type": "execute_result"
    }
   ],
   "source": [
    "l=[]\n",
    "\n",
    "page_count = 0\n",
    "while page_count < 2401:\n",
    "    r = requests.get(\"https://www.century21.com/propsearch-async?lid=CNCCHARLOTTE&t=0&s=  \"+str(page_count)+\"   &r=20&searchKey=66d390e3-1d6c-4ee1-9dab-0d8526fec772&p=2&o=virtualopenhouses-asc\", headers={'User-agent': 'Mozilla/5.0 (X11; Ubuntu; Linux x86_64; rv:61.0) Gecko/20100101 Firefox/61.0'})\n",
    "    c=r.content\n",
    "\n",
    "\n",
    "    soup = BeautifulSoup(c,'html.parser')\n",
    "\n",
    "    all=soup.find_all(\"div\",{'class':'infinite-item'})\n",
    "\n",
    "    for item in all:\n",
    "        d={}\n",
    "        try:\n",
    "            d[\"Price\"]=item.find(\"a\",{'class':'listing-price'}).text.replace('\\n','').strip()\n",
    "            d[\"Address\"]=item.find('div',{'class':'property-address'}).text.strip()\n",
    "            d[\"City\"]=item.find('div',{'class':'property-city'}).text.strip()\n",
    "            d[\"Beds\"]=item.find('div',{'class':'property-beds'}).text.strip().replace(\"beds\",\"\").replace(\"bed\",\"\")\n",
    "            d[\"Baths\"]=item.find('div',{'class':'property-baths'}).text.strip().replace(\"baths\",\"\").replace(\"bath\",\"\")\n",
    "            d[\"Half Baths\"]=item.find('div',{'class':'property-half-baths'}).text.strip().replace(\"half baths\",\"\").replace(\"half bath\",\"\")\n",
    "            d[\"Sqft\"]=item.find('div',{'class':'property-sqft'}).text.strip().replace(\"sq. ft\",\"\")\n",
    "        except:\n",
    "            pass\n",
    "        l.append(d)\n",
    "\n",
    "    page_count += 20\n",
    "        \n",
    "        \n",
    "df=pandas.DataFrame(l)\n",
    "\n",
    "df.head()\n"
   ]
  },
  {
   "cell_type": "markdown",
   "id": "687cd52a",
   "metadata": {},
   "source": [
    "## 0.3 Cleaning the data"
   ]
  },
  {
   "cell_type": "markdown",
   "id": "55ced755",
   "metadata": {},
   "source": [
    "##### The dataset contains 2400+ entries, but only the first 5 are shown in the header.\n",
    "##### We pulled information about the Price, Address, City, Number of beds, Number of baths, Half-Baths, and total Sqft of the house.\n",
    "##### We will now collect this data and export it into a csv file so that we can import the data into MySQLWorkbench to filter the data and perform further analysis and cleaning of data."
   ]
  },
  {
   "cell_type": "code",
   "execution_count": 76,
   "id": "9fb152b2",
   "metadata": {},
   "outputs": [],
   "source": [
    "df.to_csv(\"RealEstateScrap.csv\")"
   ]
  },
  {
   "cell_type": "markdown",
   "id": "d28047ab",
   "metadata": {},
   "source": [
    "##### In MYSQLWorkbench, we cleaned unnecessary tags on the data, removed the decimals and commas in the Price column, updated the City tag to just show Zip code, removed null rows and unknown values, and more.\n",
    "##### This allowed us to select the data we need for visualization and we generally grouped by Zip Code."
   ]
  },
  {
   "cell_type": "markdown",
   "id": "9fb89aea",
   "metadata": {},
   "source": [
    "## 0.4 Visualizing the Data"
   ]
  },
  {
   "cell_type": "markdown",
   "execution_count": 14,
   "id": "80ac4772",
   "metadata": {},
   "outputs": [
    {
     "data": {
      "text/html": [
       "<div class='tableauPlaceholder' id='viz1623162613415' style='position: relative'><noscript><a href='#'><img alt='Dashboard 2 ' src='https:&#47;&#47;public.tableau.com&#47;static&#47;images&#47;D2&#47;D2NHBSCFM&#47;1_rss.png' style='border: none' /></a></noscript><object class='tableauViz'  style='display:none;'><param name='host_url' value='https%3A%2F%2Fpublic.tableau.com%2F' /> <param name='embed_code_version' value='3' /> <param name='path' value='shared&#47;D2NHBSCFM' /> <param name='toolbar' value='yes' /><param name='static_image' value='https:&#47;&#47;public.tableau.com&#47;static&#47;images&#47;D2&#47;D2NHBSCFM&#47;1.png' /> <param name='animate_transition' value='yes' /><param name='display_static_image' value='yes' /><param name='display_spinner' value='yes' /><param name='display_overlay' value='yes' /><param name='display_count' value='yes' /><param name='language' value='en-US' /></object></div>                <script type='text/javascript'>                    var divElement = document.getElementById('viz1623162613415');                    var vizElement = divElement.getElementsByTagName('object')[0];                    if ( divElement.offsetWidth > 800 ) { vizElement.style.width='100%';vizElement.style.height=(divElement.offsetWidth*0.75)+'px';} else if ( divElement.offsetWidth > 500 ) { vizElement.style.width='100%';vizElement.style.height=(divElement.offsetWidth*0.75)+'px';} else { vizElement.style.width='100%';vizElement.style.height='1027px';}                     var scriptElement = document.createElement('script');                    scriptElement.src = 'https://public.tableau.com/javascripts/api/viz_v1.js';                    vizElement.parentNode.insertBefore(scriptElement, vizElement);                </script>\n"
      ],
      "text/plain": [
       "<IPython.core.display.HTML object>"
      ]
     },
     "metadata": {},
     "output_type": "display_data"
    }
   ],
   "source": [
    "%%HTML\n",
    "<div class='tableauPlaceholder' id='viz1623162613415' style='position: relative'><noscript><a href='#'><img alt='Dashboard 2 ' src='https:&#47;&#47;public.tableau.com&#47;static&#47;images&#47;D2&#47;D2NHBSCFM&#47;1_rss.png' style='border: none' /></a></noscript><object class='tableauViz'  style='display:none;'><param name='host_url' value='https%3A%2F%2Fpublic.tableau.com%2F' /> <param name='embed_code_version' value='3' /> <param name='path' value='shared&#47;D2NHBSCFM' /> <param name='toolbar' value='yes' /><param name='static_image' value='https:&#47;&#47;public.tableau.com&#47;static&#47;images&#47;D2&#47;D2NHBSCFM&#47;1.png' /> <param name='animate_transition' value='yes' /><param name='display_static_image' value='yes' /><param name='display_spinner' value='yes' /><param name='display_overlay' value='yes' /><param name='display_count' value='yes' /><param name='language' value='en-US' /></object></div>                <script type='text/javascript'>                    var divElement = document.getElementById('viz1623162613415');                    var vizElement = divElement.getElementsByTagName('object')[0];                    if ( divElement.offsetWidth > 800 ) { vizElement.style.width='100%';vizElement.style.height=(divElement.offsetWidth*0.75)+'px';} else if ( divElement.offsetWidth > 500 ) { vizElement.style.width='100%';vizElement.style.height=(divElement.offsetWidth*0.75)+'px';} else { vizElement.style.width='100%';vizElement.style.height='1027px';}                     var scriptElement = document.createElement('script');                    scriptElement.src = 'https://public.tableau.com/javascripts/api/viz_v1.js';                    vizElement.parentNode.insertBefore(scriptElement, vizElement);                </script>"
   ]
  },
  {
   "cell_type": "markdown",
   "id": "173d506f",
   "metadata": {},
   "source": [
    "##### We used the data to form graphs like these posted above. \n",
    "##### The graphs give us insight on information such as the Number of houses in a particular zip code available for sale, the Average Sqft of the houses that are available in that zip code, and the Average Cost per Sqft of a house in that particular zip code."
   ]
  },
  {
   "cell_type": "markdown",
   "id": "46816843",
   "metadata": {},
   "source": [
    "## 0.5 Conclusion"
   ]
  },
  {
   "cell_type": "markdown",
   "id": "54e8de80",
   "metadata": {},
   "source": [
    "##### Upon review of these graphs, a user can determine what area of Charlotte they should target for their future home purchase based on the best value for their needs. The data is set up in a way that is interactive for the user and proves to be an ideal tool for area comparison."
   ]
  },
  {
   "cell_type": "code",
   "execution_count": null,
   "id": "b885fd07",
   "metadata": {},
   "outputs": [],
   "source": []
  }
 ],
 "metadata": {
  "kernelspec": {
   "display_name": "Python 3",
   "language": "python",
   "name": "python3"
  },
  "language_info": {
   "codemirror_mode": {
    "name": "ipython",
    "version": 3
   },
   "file_extension": ".py",
   "mimetype": "text/x-python",
   "name": "python",
   "nbconvert_exporter": "python",
   "pygments_lexer": "ipython3",
   "version": "3.9.5"
  }
 },
 "nbformat": 4,
 "nbformat_minor": 5
}
