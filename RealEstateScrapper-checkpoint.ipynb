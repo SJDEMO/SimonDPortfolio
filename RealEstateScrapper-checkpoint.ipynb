{
 "cells": [
  {
   "cell_type": "markdown",
   "id": "f6cba92d",
   "metadata": {},
   "source": [
    "## 0.1 Intent"
   ]
  },
  {
   "cell_type": "markdown",
   "id": "e71eb363",
   "metadata": {},
   "source": [
    "##### In the following notebook, we will be performing analysis on data from the Century21 website on local houses for sale in the charlotte area.We obtain this data from the following link. In conclusion, we will be able to determine an ideal area for home buyers to target"
   ]
  },
  {
   "cell_type": "markdown",
   "id": "5a3e2047",
   "metadata": {},
   "source": [
    "##### https://www.century21.com/real-estate/charlotte-nc/LCNCCHARLOTTE/"
   ]
  },
  {
   "cell_type": "markdown",
   "id": "94d805be",
   "metadata": {},
   "source": [
    "## 0.2 Import the dataset and preview"
   ]
  },
  {
   "cell_type": "markdown",
   "id": "3e6604ec",
   "metadata": {},
   "source": [
    "##### We begin by importing the necessary functions that will help up scrape data from the Century21 Website"
   ]
  },
  {
   "cell_type": "code",
   "execution_count": 2,
   "id": "a8e14620",
   "metadata": {},
   "outputs": [],
   "source": [
    "import requests\n",
    "from bs4 import BeautifulSoup\n",
    "import pandas"
   ]
  },
  {
   "cell_type": "markdown",
   "id": "09d90f13",
   "metadata": {},
   "source": [
    "##### We compare our results of the entries to the website to ensure accuracy of data. We find that this function works perfectly. \n",
    "##### This website hosts an infinite scrolling feature, which is the reason a 'while' loop was necessary to obtain each data entry."
   ]
  },
  {
   "cell_type": "code",
   "execution_count": 12,
   "id": "33f1d13f",
   "metadata": {
    "scrolled": true
   },
   "outputs": [
    {
     "data": {
      "text/html": [
       "<div>\n",
       "<style scoped>\n",
       "    .dataframe tbody tr th:only-of-type {\n",
       "        vertical-align: middle;\n",
       "    }\n",
       "\n",
       "    .dataframe tbody tr th {\n",
       "        vertical-align: top;\n",
       "    }\n",
       "\n",
       "    .dataframe thead th {\n",
       "        text-align: right;\n",
       "    }\n",
       "</style>\n",
       "<table border=\"1\" class=\"dataframe\">\n",
       "  <thead>\n",
       "    <tr style=\"text-align: right;\">\n",
       "      <th></th>\n",
       "      <th>Price</th>\n",
       "      <th>Address</th>\n",
       "      <th>City</th>\n",
       "      <th>Beds</th>\n",
       "      <th>Baths</th>\n",
       "      <th>Half Baths</th>\n",
       "      <th>Sqft</th>\n",
       "    </tr>\n",
       "  </thead>\n",
       "  <tbody>\n",
       "    <tr>\n",
       "      <th>0</th>\n",
       "      <td>$989,000</td>\n",
       "      <td>5311 Macandrew Drive</td>\n",
       "      <td>Charlotte NC 28226</td>\n",
       "      <td>5</td>\n",
       "      <td>4</td>\n",
       "      <td>1</td>\n",
       "      <td>4,487</td>\n",
       "    </tr>\n",
       "    <tr>\n",
       "      <th>1</th>\n",
       "      <td>$925,000</td>\n",
       "      <td>2236 Chesterfield Avenue</td>\n",
       "      <td>Charlotte NC 28205</td>\n",
       "      <td>5</td>\n",
       "      <td>3</td>\n",
       "      <td>NaN</td>\n",
       "      <td>NaN</td>\n",
       "    </tr>\n",
       "    <tr>\n",
       "      <th>2</th>\n",
       "      <td>$799,000</td>\n",
       "      <td>251 W Kingston Avenue</td>\n",
       "      <td>Charlotte NC 28203</td>\n",
       "      <td>4</td>\n",
       "      <td>4</td>\n",
       "      <td>NaN</td>\n",
       "      <td>NaN</td>\n",
       "    </tr>\n",
       "    <tr>\n",
       "      <th>3</th>\n",
       "      <td>$794,900</td>\n",
       "      <td>2433 Hassell Place</td>\n",
       "      <td>Charlotte NC 28209</td>\n",
       "      <td>3</td>\n",
       "      <td>2</td>\n",
       "      <td>NaN</td>\n",
       "      <td>NaN</td>\n",
       "    </tr>\n",
       "    <tr>\n",
       "      <th>4</th>\n",
       "      <td>$775,000</td>\n",
       "      <td>2910 Hanson Drive</td>\n",
       "      <td>Charlotte NC 28207</td>\n",
       "      <td>5</td>\n",
       "      <td>3</td>\n",
       "      <td>1</td>\n",
       "      <td>2,847</td>\n",
       "    </tr>\n",
       "  </tbody>\n",
       "</table>\n",
       "</div>"
      ],
      "text/plain": [
       "      Price                   Address                City Beds Baths  \\\n",
       "0  $989,000      5311 Macandrew Drive  Charlotte NC 28226   5     4    \n",
       "1  $925,000  2236 Chesterfield Avenue  Charlotte NC 28205   5     3    \n",
       "2  $799,000     251 W Kingston Avenue  Charlotte NC 28203   4     4    \n",
       "3  $794,900        2433 Hassell Place  Charlotte NC 28209   3     2    \n",
       "4  $775,000         2910 Hanson Drive  Charlotte NC 28207   5     3    \n",
       "\n",
       "  Half Baths    Sqft  \n",
       "0         1   4,487   \n",
       "1        NaN     NaN  \n",
       "2        NaN     NaN  \n",
       "3        NaN     NaN  \n",
       "4         1   2,847   "
      ]
     },
     "execution_count": 12,
     "metadata": {},
     "output_type": "execute_result"
    }
   ],
   "source": [
    "l=[]\n",
    "\n",
    "page_count = 0\n",
    "while page_count < 2401:\n",
    "    r = requests.get(\"https://www.century21.com/propsearch-async?lid=CNCCHARLOTTE&t=0&s=  \"+str(page_count)+\"   &r=20&searchKey=66d390e3-1d6c-4ee1-9dab-0d8526fec772&p=2&o=virtualopenhouses-asc\", headers={'User-agent': 'Mozilla/5.0 (X11; Ubuntu; Linux x86_64; rv:61.0) Gecko/20100101 Firefox/61.0'})\n",
    "    c=r.content\n",
    "\n",
    "\n",
    "    soup = BeautifulSoup(c,'html.parser')\n",
    "\n",
    "    all=soup.find_all(\"div\",{'class':'infinite-item'})\n",
    "\n",
    "    for item in all:\n",
    "        d={}\n",
    "        try:\n",
    "            d[\"Price\"]=item.find(\"a\",{'class':'listing-price'}).text.replace('\\n','').strip()\n",
    "            d[\"Address\"]=item.find('div',{'class':'property-address'}).text.strip()\n",
    "            d[\"City\"]=item.find('div',{'class':'property-city'}).text.strip()\n",
    "            d[\"Beds\"]=item.find('div',{'class':'property-beds'}).text.strip().replace(\"beds\",\"\").replace(\"bed\",\"\")\n",
    "            d[\"Baths\"]=item.find('div',{'class':'property-baths'}).text.strip().replace(\"baths\",\"\").replace(\"bath\",\"\")\n",
    "            d[\"Half Baths\"]=item.find('div',{'class':'property-half-baths'}).text.strip().replace(\"half baths\",\"\").replace(\"half bath\",\"\")\n",
    "            d[\"Sqft\"]=item.find('div',{'class':'property-sqft'}).text.strip().replace(\"sq. ft\",\"\")\n",
    "        except:\n",
    "            pass\n",
    "        l.append(d)\n",
    "\n",
    "    page_count += 20\n",
    "        \n",
    "        \n",
    "df=pandas.DataFrame(l)\n",
    "\n",
    "df.head()\n"
   ]
  },
  {
   "cell_type": "markdown",
   "id": "a181d437",
   "metadata": {},
   "source": [
    "## 0.3 Explaining the data"
   ]
  },
  {
   "cell_type": "markdown",
   "id": "47a1964a",
   "metadata": {},
   "source": [
    "##### The dataset contains 2400+ entries, but only the first 5 are shown in the header.\n",
    "##### We pulled information about the Price, Address, City, Number of beds, Number of baths, Half-Baths, and total Sqft of the house.\n",
    "##### We will now collect this data and export it into a csv file so that we can import the data into MySQLWorkbench to filter the data and perform further analysis"
   ]
  },
  {
   "cell_type": "code",
   "execution_count": 76,
   "id": "9fb152b2",
   "metadata": {},
   "outputs": [],
   "source": [
    "df.to_csv(\"RealEstateScrap.csv\")"
   ]
  }
 ],
 "metadata": {
  "kernelspec": {
   "display_name": "Python 3",
   "language": "python",
   "name": "python3"
  },
  "language_info": {
   "codemirror_mode": {
    "name": "ipython",
    "version": 3
   },
   "file_extension": ".py",
   "mimetype": "text/x-python",
   "name": "python",
   "nbconvert_exporter": "python",
   "pygments_lexer": "ipython3",
   "version": "3.9.5"
  }
 },
 "nbformat": 4,
 "nbformat_minor": 5
}
